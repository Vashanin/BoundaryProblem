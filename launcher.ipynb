{
 "cells": [
  {
   "cell_type": "code",
   "execution_count": 1,
   "metadata": {
    "collapsed": true
   },
   "outputs": [],
   "source": [
    "from diffeq import BoundaryProblem\n",
    "from config import BOUNDARY_CONDITIONS\n",
    "import visualize\n",
    "\n",
    "%matplotlib inline"
   ]
  },
  {
   "cell_type": "markdown",
   "metadata": {},
   "source": [
    "# Крайова задача"
   ]
  },
  {
   "cell_type": "markdown",
   "metadata": {},
   "source": [
    "Необхідно розв'язати крайову задачу, що задана для дифереційного рівняння Лапласа:\n",
    "$$\\frac{\\partial^2 T}{\\partial x^2} + \\frac{\\partial^2 T}{\\partial y^2} = 0$$\n",
    "На інтервалі $x \\in [0; 4], y \\in [0; 4]$, з заданими граничними умовами."
   ]
  },
  {
   "cell_type": "code",
   "execution_count": 2,
   "metadata": {
    "collapsed": true
   },
   "outputs": [],
   "source": [
    "boundary_problem = BoundaryProblem(boundary_conditions=BOUNDARY_CONDITIONS, \n",
    "                                   change_interval=(5.0, 5.0),\n",
    "                                   amount_of_sections=(5, 5))"
   ]
  },
  {
   "cell_type": "markdown",
   "metadata": {},
   "source": [
    "Для розв'язку задачі використаємо метод сіток. Тобто, знайдемо значенні функціх не на всій області, а лише в деяких точках, що зазначені розбиттям."
   ]
  },
  {
   "cell_type": "code",
   "execution_count": 3,
   "metadata": {},
   "outputs": [
    {
     "data": {
      "image/png": "[encoded data removed]",
      "text/plain": [
       "<matplotlib.figure.Figure at 0x7febb0277250>"
      ]
     },
     "metadata": {},
     "output_type": "display_data"
    }
   ],
   "source": [
    "visualize.plate(BOUNDARY_CONDITIONS)"
   ]
  },
  {
   "cell_type": "markdown",
   "metadata": {},
   "source": [
    "Для вирішення даної задачі, зводимо диференційне рівняння до різнецевого\n",
    "\n",
    "$$\\frac{\\partial^2 T}{\\partial x^2} = \\frac {T(x - h_1, y) - 2 T(x, y) + T(x + h_1, y)} {h_1^2}$$\n",
    "\n",
    "$$\\frac{\\partial^2 T}{\\partial y^2} = \\frac {T(x, y - h_2) - 2 T(x, y) + T(x, y + h_2)} {h_2^2}$$\n",
    "\n",
    "Тобто, маємо рівняння виду\n",
    "\n",
    "$$\\frac {T(x - h_1, y) - 2 T(x, y) + T(x + h_1, y)} {h_1^2} +  \\frac {T(x, y - h_2) - 2 T(x, y) + T(x, y + h_2)} {h_2^2} = 0$$\n",
    "\n",
    "На основі якого, та значень краєвих умов, знаходимо значення функції у зазначених вузлах."
   ]
  },
  {
   "cell_type": "code",
   "execution_count": 4,
   "metadata": {},
   "outputs": [
    {
     "data": {
      "image/png": "[encoded data removed]",
      "text/plain": [
       "<matplotlib.figure.Figure at 0x7febb0291e50>"
      ]
     },
     "metadata": {},
     "output_type": "display_data"
    }
   ],
   "source": [
    "visualize.difference_scheme()"
   ]
  },
  {
   "cell_type": "code",
   "execution_count": 5,
   "metadata": {},
   "outputs": [
    {
     "name": "stdout",
     "output_type": "stream",
     "text": [
      "Input data\n",
      "\tTemperature on\n",
      "\t\tupper edge: 5\n",
      "\t\tright edge: 49\n",
      "\t\tlower edge: 120\n",
      "\t\tleft edge: 78\n",
      "Computational data\n",
      "\tStep size\n",
      "\t\tby X axis: 1.0\n",
      "\t\tby Y axis: 1.0\n",
      "\tAmount of equations: 21\n",
      "\n"
     ]
    }
   ],
   "source": [
    "answer = boundary_problem.solve(method=\"grid\", disp=True)"
   ]
  },
  {
   "cell_type": "code",
   "execution_count": 6,
   "metadata": {},
   "outputs": [
    {
     "data": {
      "text/plain": [
       "array([[ 47.64,  38.23,  37.29],\n",
       "       [ 69.34,  63.  ,  56.91],\n",
       "       [ 88.71,  87.52,  78.36]])"
      ]
     },
     "execution_count": 6,
     "metadata": {},
     "output_type": "execute_result"
    }
   ],
   "source": [
    "answer"
   ]
  },
  {
   "cell_type": "markdown",
   "metadata": {},
   "source": [
    "Тобто, розподіл температур має вигляд"
   ]
  },
  {
   "cell_type": "code",
   "execution_count": 7,
   "metadata": {},
   "outputs": [
    {
     "data": {
      "image/png": "[encoded data removed]",
      "text/plain": [
       "<matplotlib.figure.Figure at 0x7feba43e1a50>"
      ]
     },
     "metadata": {},
     "output_type": "display_data"
    }
   ],
   "source": [
    "visualize.marked_plate(answer, BOUNDARY_CONDITIONS)"
   ]
  },
  {
   "cell_type": "markdown",
   "metadata": {},
   "source": [
    "Перевіримо правильність реалізації алгоритму. Для цього підставимо дані нам тестові данні, та порівняємо отримані результати з тим що має бути."
   ]
  },
  {
   "cell_type": "code",
   "execution_count": 8,
   "metadata": {},
   "outputs": [
    {
     "name": "stdout",
     "output_type": "stream",
     "text": [
      "RUN METHOD WITH TEST DATA\n",
      "\n",
      "Input data\n",
      "\tTemperature on\n",
      "\t\tupper edge: 100\n",
      "\t\tright edge: 50\n",
      "\t\tlower edge: 0\n",
      "\t\tleft edge: 75\n",
      "Computational data\n",
      "\tStep size\n",
      "\t\tby X axis: 1\n",
      "\t\tby Y axis: 1\n",
      "\tAmount of equations: 21\n",
      "\n",
      "EXPECTED RESULT\n",
      "[[ 78.59  76.06  69.71]\n",
      " [ 63.21  56.11  52.34]\n",
      " [ 43.    33.3   33.89]]\n",
      "ACTUAL RESULT\n",
      "[[ 78.57  76.12  69.64]\n",
      " [ 63.17  56.25  52.46]\n",
      " [ 42.86  33.26  33.93]]\n",
      "\n",
      "\n"
     ]
    },
    {
     "data": {
      "text/plain": [
       "True"
      ]
     },
     "execution_count": 8,
     "metadata": {},
     "output_type": "execute_result"
    }
   ],
   "source": [
    "BoundaryProblem.is_valid(disp=True)"
   ]
  }
 ],
 "metadata": {
  "kernelspec": {
   "display_name": "Python 3",
   "language": "python",
   "name": "python3"
  },
  "language_info": {
   "codemirror_mode": {
    "name": "ipython",
    "version": 2
   },
   "file_extension": ".py",
   "mimetype": "text/x-python",
   "name": "python",
   "nbconvert_exporter": "python",
   "pygments_lexer": "ipython2",
   "version": "2.7.14"
  }
 },
 "nbformat": 4,
 "nbformat_minor": 2
}
